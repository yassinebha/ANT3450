{
 "cells": [
  {
   "cell_type": "markdown",
   "metadata": {},
   "source": [
    "<div align=\"center\">\n",
    "  <h2> Neurosciences et Anthropologie </h2>\n",
    "</div>"
   ]
  },
  {
   "cell_type": "markdown",
   "metadata": {},
   "source": [
    "<div align=\"center\">\n",
    "<b><i> Cours ANT3450, année 2016</i></b><br>\n",
    "<b>Laboratoire d'analyse de données multidimensionnelle en neurosciences</b><br>\n",
    "     *Yassine Benhajali*\n",
    "</div>"
   ]
  },
  {
   "cell_type": "markdown",
   "metadata": {},
   "source": [
    "### Objectif:"
   ]
  },
  {
   "cell_type": "markdown",
   "metadata": {},
   "source": [
    "Ce laboratoire a pour but de vous initier à la manipulation d'informations multidimensionnelles avec Matlab. Nous allons effectuer différentes opérations visant à **visualiser** et **résumer** un jeux de données de mesures de décharges en électrophysiologie. \n",
    "\n",
    "Notez que le laboratoire est noté. Il faudra remettre un rapport détaillé incluant une réponse pour chacune des questions numérotées ci dessous. Chaque réponse fera typiquement quelques lignes, incluant du code et une figure si demandé dans l'énoncé. Il est conseillé d'ouvrir un script dans l'éditeur matlab et d'y sauvegarder les commandes effectuées au fur et à mesure du laboratoire. \n",
    "\n",
    "Deux questions sont en <font color=\"red\">**rouge**</font> : ces questions doivent être réalisées d'ici à la remise du devoir, mais ne seront pas abordées durant l'horaire régulier du laboratoire. S'il vous plait, récupérer l'archive `labo.zip` sur [studium](https://studium.umontreal.ca/), et en extraire les fichiers suivants dans le répertoire de travail de Matlab:\n",
    "\n",
    "* `georgopoulos1982.mat`: les enregistrements de décharges de (Georgopoulos et al. 1982).  \n",
    "* Les fonctions `ddiag.m` et `ddiag_direc.m` pour la Section 1.\n",
    "* La fonction `dhist_direc.m` pour la Section 2.\n",
    "\n",
    "Vous pouvez consulter l'aide de chaque fonction à l'aide de la commande `help`. Durant le laboratoire vous apprendrez à utiliser ces fonctions, mais il n'est pas nécessaire de comprendre le code contenu dans chaque fonction (bien qu'il soit bien sur possible pour les curieux de le lire). \n"
   ]
  },
  {
   "cell_type": "markdown",
   "metadata": {},
   "source": [
    "### Section 1 : Diagramme de dispersion"
   ]
  },
  {
   "cell_type": "markdown",
   "metadata": {},
   "source": [
    "Les données sont tirée de l'expérience de Georgopoulos et al. (1982) sur l'encodage neuronale du mouvement du bras chez un macaque avec des implants neuronaux. Durant l'experience l’animal commence en fixant un curseur au centre\n",
    "d’une cible, ensuite il doit rejoindre des cibles périphériques\n",
    "apparaissent dans une des **8 directions** arrangé en cercle.\n",
    "\n",
    "<img src=\"fig_georgopoulos1982_setup.png\" alt=\"Smiley face\" height=\"200\" width=\"200\" align=\"left\"><img src=\"georgopoulos1982.png\" alt=\"Smiley face\" height=\"500\" width=\"500\" align=\"right\">"
   ]
  },
  {
   "cell_type": "markdown",
   "metadata": {},
   "source": [
    "Une fois la cible apparue, l’animal doit attendre ( 100-1500 ms) le signal de départ avant d’aller rejoindre la cible pour\n",
    "une durée de 500ms, ensuite il retourne au point de départ (au centre).\n",
    "Cette séquence de mouvement est appelée essai et dans cette expérience\n",
    "il y en a **47**. (Voir figure ci-bas) <img  src=\"fig_diagramme_dispersion.png\"￼ height=\"600\" width=\"600\" align=\"center\">"
   ]
  },
  {
   "cell_type": "markdown",
   "metadata": {},
   "source": [
    "**Question 1.1.** Commençons par charger les données:"
   ]
  },
  {
   "cell_type": "code",
   "execution_count": null,
   "metadata": {
    "collapsed": false
   },
   "outputs": [],
   "source": [
    "load('georgopoulos1982.mat')"
   ]
  },
  {
   "cell_type": "markdown",
   "metadata": {},
   "source": [
    "**Question 1.2.** La commande `whos` nous permet de déterminer quelles variables sont disponibles dans l’espace de travail, ainsi que leur type. Quelles variables sont présentes? Quel est le type de la variable `temps_u`? Quelle est sa taille? "
   ]
  },
  {
   "cell_type": "code",
   "execution_count": 2,
   "metadata": {
    "collapsed": false
   },
   "outputs": [
    {
     "data": {
      "text/plain": [
       "Variables in the current scope:\r\n",
       "\r\n",
       "   Attr Name            Size                     Bytes  Class\r\n",
       "   ==== ====            ====                     =====  ===== \r\n",
       "        essai         143x8                    2935768  cell\r\n",
       "        essai_u      3037x1                      24296  double\r\n",
       "        figHandles      0x1                          0  double\r\n",
       "        temps         143x8                    2935768  cell\r\n",
       "        temps_u      3037x1                      24296  double\r\n",
       "\r\n",
       "Total is 8362 elements using 5920128 bytes\r\n",
       "\r\n"
      ]
     },
     "execution_count": 2,
     "metadata": {},
     "output_type": "execute_result"
    }
   ],
   "source": [
    "whos"
   ]
  },
  {
   "cell_type": "markdown",
   "metadata": {},
   "source": [
    "**Question 1.3.** La variable `temps_u` contient les temps des potentiels d'action détecté pour un neurone. La commande suivante va présenter les dix premiers temps de décharge. Basé sur ce que l'on a vu en cours, quelle est l'unité de ces temps? Pourquoi y-a-t-il des valeurs négatives?"
   ]
  },
  {
   "cell_type": "code",
   "execution_count": 3,
   "metadata": {
    "collapsed": false
   },
   "outputs": [
    {
     "data": {
      "text/plain": [
       "ans =\r\n",
       "\r\n",
       "  -0.98933\r\n",
       "  -0.94020\r\n",
       "  -0.91580\r\n",
       "  -0.84803\r\n",
       "  -0.74703\r\n",
       "  -0.64273\r\n",
       "  -0.55043\r\n",
       "  -0.44340\r\n",
       "  -0.38847\r\n",
       "  -0.31167\r\n",
       "\r\n"
      ]
     },
     "execution_count": 3,
     "metadata": {},
     "output_type": "execute_result"
    }
   ],
   "source": [
    "temps_u(1:10)"
   ]
  },
  {
   "cell_type": "markdown",
   "metadata": {},
   "source": [
    "**Question 1.4.** La variable `essai_u` contient les numéros des essais correspondant à chaque entrée du vecteur temps des potentiels d'action détecté pour un neurone. La commande suivante va présenter les numéros des essais pour les dix premiers temps de décharge. Sur quel(s) essai(s) portent ces mesures? A quel(s) essai(s) correspondent les décharges numéros 510 à 520? La commande `max(essai_u)` donne le numéro maximal d'un essai. Combien y-a-t-il d'essais dans cet enregistrement?\n"
   ]
  },
  {
   "cell_type": "code",
   "execution_count": 4,
   "metadata": {
    "collapsed": false
   },
   "outputs": [
    {
     "data": {
      "text/plain": [
       "ans =\r\n",
       "\r\n",
       "   1\r\n",
       "   1\r\n",
       "   1\r\n",
       "   1\r\n",
       "   1\r\n",
       "   1\r\n",
       "   1\r\n",
       "   1\r\n",
       "   1\r\n",
       "   1\r\n",
       "\r\n"
      ]
     },
     "execution_count": 4,
     "metadata": {},
     "output_type": "execute_result"
    }
   ],
   "source": [
    "essai_u(1:10)"
   ]
  },
  {
   "cell_type": "markdown",
   "metadata": {},
   "source": [
    "**Question 1.5.** On ouvre une nouvelle fenêtre, dédiée à la visualisation. On va appeler la fonction `ddiag`, qui construit les diagrammes de dispersion. La commande prend deux entrées (`temps_u` et `essai_u`, dans cet ordre), et affiche le diagramme dans la fenêtre courante. On va également ajouter un label sur les axes `x` et `y`. Notez qu'on peut sauvegarder la figure dans un fichier au format `png` (utilisez Fichier, enregistrer sous). Ne pas inclure cette figure dans le rapport.  "
   ]
  },
  {
   "cell_type": "code",
   "execution_count": 7,
   "metadata": {
    "collapsed": false
   },
   "outputs": [
    {
     "data": {
      "image/png": "[encoded data removed]",
      "text/plain": [
       "<IPython.core.display.Image object>"
      ]
     },
     "metadata": {},
     "output_type": "display_data"
    },
    {
     "data": {},
     "execution_count": 7,
     "metadata": {},
     "output_type": "execute_result"
    }
   ],
   "source": [
    "figure                 % nouvelle figure\n",
    "ddiag(temps_u,essai_u) % Affiche le diagramme de dispersion\n",
    "xlabel('Temp (sec)');  % Label sur l'axe x\n",
    "ylabel('Essai #');     % Label sur l'axe y"
   ]
  },
  {
   "cell_type": "markdown",
   "metadata": {},
   "source": [
    "**Question 1.6.** Ouvrez une nouvelle fenêtre. Faites un diagramme de dispersion en n'utilisant que les 310 premiers temps de décharge. Inclure le code et la figure dans le rapport de laboratoire. Combien d'essais sont inclus dans cette figure?"
   ]
  },
  {
   "cell_type": "markdown",
   "metadata": {},
   "source": [
    "**Question 1.7.** Nous allons maintenant utiliser les variables `temps` et `essai`, qui contiennent l'ensemble des 143 neurones enregistrés dans l'expérience. Les essais ont aussi été organisés selon la direction du mouvement du bras. Il n'est pas nécessaire de regarder le type de données utilisé pour stocker `temps` et `essai`, qui va au-delà des objectifs de ce cours. L'instruction suivante effectue une série de huit diagrammes de dispersion spécifique de chaque direction, similaire à la figure du papier de Georgopoulos et al. (1982). Le troisiéme argument de la fonction `ddiag_direc` est le numéro du neurone pour lequel on souhaite afficher le résultat de l'expérience. Quelle est la direction qui semble associée au plus grand nombre de décharges - voir la figure de Georgopoulos et al. (1982) pour une description des directions? Ne pas inclure la figure dans le rapport. \n"
   ]
  },
  {
   "cell_type": "code",
   "execution_count": null,
   "metadata": {
    "collapsed": false
   },
   "outputs": [],
   "source": [
    "ddiag_direc(temps,essai,129)"
   ]
  },
  {
   "cell_type": "markdown",
   "metadata": {},
   "source": [
    "<font color=\"red\">**Question 1.8.**</font> Essayez différents neurones, en modifiant le troisiéme paramétre de `ddiag_direc`. Trouver un exemple de neurones pour lequel peu de décharges ont été enregistrées. Trouvez un neurone qui a effectué beaucoup de décharges, préférentiellement dans la direction 3 (90$^\\circ$). Nous réutiliserons ces neurones à la fin de la section suivante. Inclure les figures et les instructions dans le rapport. "
   ]
  },
  {
   "cell_type": "markdown",
   "metadata": {},
   "source": [
    "### Section 2: Histogramme de fréquence de décharges"
   ]
  },
  {
   "cell_type": "markdown",
   "metadata": {},
   "source": [
    "Nous allons continuer l'exploration des données électrophysiologiques à l'aide d'histogrammes de fréquences de décharge. "
   ]
  },
  {
   "cell_type": "markdown",
   "metadata": {},
   "source": [
    "**Question 2.1.** Définissons les intervalles de temps de l'histogramme:"
   ]
  },
  {
   "cell_type": "code",
   "execution_count": null,
   "metadata": {
    "collapsed": false
   },
   "outputs": [],
   "source": [
    "inter = -1:0.1:1;"
   ]
  },
  {
   "cell_type": "markdown",
   "metadata": {},
   "source": [
    "Que signifient les trois valeurs $-1$, $0.1$ et $1$ dans cette instruction? pourquoi avoir choisi $-1$ et $1$? Quelle est la longueur du vecteur `inter`?"
   ]
  },
  {
   "cell_type": "markdown",
   "metadata": {},
   "source": [
    "**Question 2.2.** On génère maintenant l'histogramme (classique) du nombre de décharges par intervalle de temps. Utilisons l'instruction `bar` pour représenter l'histogramme. Quels sont les valeurs les plus faibles de nombre de décharges? Les valeurs les plus fortes? (on demande des valeurs approximatives, pas exactes). Inclure la figure dans le rapport.  "
   ]
  },
  {
   "cell_type": "code",
   "execution_count": null,
   "metadata": {
    "collapsed": false
   },
   "outputs": [],
   "source": [
    "hd = histc(temps_u,inter);\n",
    "figure\n",
    "bar(inter,hd)\n",
    "xlabel('Temps (s)')\n",
    "ylabel('#decharges / 100 ms')"
   ]
  },
  {
   "cell_type": "markdown",
   "metadata": {},
   "source": [
    "On voit que le nombre de décharges par intervalle de temps varie entre 100 et 240 (approximativement). "
   ]
  },
  {
   "cell_type": "markdown",
   "metadata": {},
   "source": [
    "**Question 2.3.** Nous allons maintenant faire un histogramme de fréquence de décharges, en normalisant l'histogramme classique par la largeur de nos intervalles de temps (0.1 sec).  Quels sont les valeurs les plus faibles de fréquence de décharges? Les valeurs les plus fortes? (on demande des valeurs approximatives, pas exactes). Inclure la figure dans le rapport. "
   ]
  },
  {
   "cell_type": "code",
   "execution_count": null,
   "metadata": {
    "collapsed": false
   },
   "outputs": [],
   "source": [
    "figure\n",
    "bar(inter,hd/0.1)\n",
    "xlabel('Temps (s)')\n",
    "ylabel('Freq decharges (Hz)')"
   ]
  },
  {
   "cell_type": "markdown",
   "metadata": {},
   "source": [
    "**Question 2.4.** Recommencer les trois questions précédentes avec des intervalles de temps de 0.01 sec (au lieu de 0.1 sec). Que remarquez vous concernant l'impact de ce paramétre sur les valeurs minimales et maximales du nombre de décharges? et de fréquence de décharge? Commentez l'impact de la largeur de l'intervalle."
   ]
  },
  {
   "cell_type": "code",
   "execution_count": null,
   "metadata": {
    "collapsed": false
   },
   "outputs": [],
   "source": [
    "inter = -1:0.01:1;\n",
    "hd = histc(temps_u,inter);\n",
    "figure\n",
    "bar(inter,hd)\n",
    "xlabel('Temps (s)')\n",
    "ylabel('#decharges / 10 ms')"
   ]
  },
  {
   "cell_type": "markdown",
   "metadata": {},
   "source": [
    "Maintenant l'histogramme de fréquences:"
   ]
  },
  {
   "cell_type": "code",
   "execution_count": null,
   "metadata": {
    "collapsed": false
   },
   "outputs": [],
   "source": [
    "figure\n",
    "bar(inter,hd/0.01)\n",
    "xlabel('Temps (s)')\n",
    "ylabel('Freq decharges (Hz)')"
   ]
  },
  {
   "cell_type": "markdown",
   "metadata": {},
   "source": [
    "**Question 2.5.** Nous allons maintenant utiliser à nouveau les variables `temps` et `essai`, cette fois pour faire des histogrammes de fréquence de décharge en fonction de la direction du mouvement. Quel est le pic de fréquence de décharge dans la direction préférée du neurone? et dans la direction la direction opposée à la direction préférée? (on demande des valeurs approximatives). Est ce le pic de décharges est atteint avant ou aprés le début du mouvement dans la direction 180$^{\\circ}$? Ne pas inclure la figure dans le rapport. "
   ]
  },
  {
   "cell_type": "code",
   "execution_count": null,
   "metadata": {
    "collapsed": false
   },
   "outputs": [],
   "source": [
    "dhist_direc(temps,essai,129)      "
   ]
  },
  {
   "cell_type": "markdown",
   "metadata": {},
   "source": [
    "<font color=\"red\">**Question 2.6.**</font> Tracer les histogrammes de fréquence de décharges pour les deux neurones sélectionnés à la fin de la Section précédente. Quels sont les pics de fréquence de décharge dans la direction préférée pour ces deux neurones? et dans les directions adjacentes à leurs directions préférées? (on se contentera de réponses approximatives). Inclure les figures dans le rapport. "
   ]
  }
 ],
 "metadata": {
  "kernelspec": {
   "display_name": "Octave",
   "language": "octave",
   "name": "octave_kernel"
  },
  "language_info": {
   "file_extension": ".m",
   "help_links": [
    {
     "text": "MetaKernel Magics",
     "url": "https://github.com/calysto/metakernel/blob/master/metakernel/magics/README.md"
    }
   ],
   "mimetype": "text/x-octave",
   "name": "octave_kernel"
  }
 },
 "nbformat": 4,
 "nbformat_minor": 0
}
